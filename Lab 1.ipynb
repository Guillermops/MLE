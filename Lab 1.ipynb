{
 "metadata": {
  "language_info": {
   "codemirror_mode": {
    "name": "ipython",
    "version": 3
   },
   "file_extension": ".py",
   "mimetype": "text/x-python",
   "name": "python",
   "nbconvert_exporter": "python",
   "pygments_lexer": "ipython3",
   "version": "3.7.6-final"
  },
  "orig_nbformat": 2,
  "kernelspec": {
   "name": "python3",
   "display_name": "Python 3",
   "language": "python"
  }
 },
 "nbformat": 4,
 "nbformat_minor": 2,
 "cells": [
  {
   "cell_type": "code",
   "execution_count": 1,
   "metadata": {},
   "outputs": [
    {
     "output_type": "stream",
     "name": "stdout",
     "text": [
      "  * * * * \n   * * * \n    * * \n     * \n      \n"
     ]
    }
   ],
   "source": [
    "               # PROBLEMA 1: 4 niveles # \n",
    "nfilas1 = 4\n",
    "# Con este for hacemos que se obtenga una forma triangular ya que le quitamos 1 asterisco por nivel hasta que llegue al penúltimo nivel.  \n",
    "y = 2\n",
    "for n in range(nfilas1, -1, -1):  \n",
    "    # Este for nos ayuda a que el triángulo esté centrado y no se quede en la derecha, nos provee los espacios  \n",
    "    for x in range(y, 0, -1):  \n",
    "        print(end=\" \")  \n",
    "    y = y + 1  \n",
    "    # Este for nos da los asteríscos. La fila más alta tiene el número de asteriscos que se determina y mientras baja la fila baja el       número de asteriscos  \n",
    "    for x in range(0, n):  \n",
    "        print(\"*\", end=\" \")  \n",
    "    print(\"\")"
   ]
  },
  {
   "cell_type": "code",
   "execution_count": 2,
   "metadata": {},
   "outputs": [
    {
     "output_type": "stream",
     "name": "stdout",
     "text": [
      "  * * * * * \n   * * * * \n    * * * \n     * * \n      * \n       \n"
     ]
    }
   ],
   "source": [
    "             # PROBLEMA 1: 5 niveles # \n",
    "nfilas2 = 5 \n",
    "y = 2\n",
    "for n in range(nfilas2, -1, -1):  \n",
    "    for x in range(y, 0, -1):  \n",
    "        print(end=\" \")  \n",
    "    y = y + 1  \n",
    "    for x in range(0, n):  \n",
    "        print(\"*\", end=\" \")  \n",
    "    print(\"\")"
   ]
  },
  {
   "cell_type": "code",
   "execution_count": 3,
   "metadata": {},
   "outputs": [
    {
     "output_type": "stream",
     "name": "stdout",
     "text": [
      "  * * * * * * \n   * * * * * \n    * * * * \n     * * * \n      * * \n       * \n        \n"
     ]
    }
   ],
   "source": [
    "             # PROBLEMA 1: 6 niveles # \n",
    "nfilas3 = 6 \n",
    "y = 2\n",
    "for n in range(nfilas3, -1, -1):  \n",
    "    for x in range(y, 0, -1):  \n",
    "        print(end=\" \")  \n",
    "    y = y + 1  \n",
    "    for x in range(0, n):  \n",
    "        print(\"*\", end=\" \")  \n",
    "    print(\"\")"
   ]
  },
  {
   "cell_type": "code",
   "execution_count": 9,
   "metadata": {},
   "outputs": [],
   "source": [
    "                                                        # PROBLEMA 2 #\n",
    "\n",
    "# Se crea una función que requiere los valores o y p\n",
    "def funcion(o, p):\n",
    "    # Se plantea la primera condición donde se dice que si la variable p (m) es igual a 0 se imprime 1.\n",
    "    if p == 0:\n",
    "        print(1)\n",
    "    # Se plantea la segunda condición donde se dice que si las variables p (m) y o (n) son iguales se imprime 1.\n",
    "    elif p == o:\n",
    "        print(1)\n",
    "    # Se plantea la última condición y si esta se llega a cumplir se realiza la fórmula con las variables. \n",
    "    elif (o >= p and p > 0):\n",
    "        print( ((o-1)/(p)) + ((o-1)/(p-1)) )"
   ]
  },
  {
   "cell_type": "code",
   "execution_count": 17,
   "metadata": {},
   "outputs": [
    {
     "output_type": "stream",
     "name": "stdout",
     "text": [
      "1\n1\n2.841176470588235\n2.34327731092437\n"
     ]
    }
   ],
   "source": [
    "funcion(50, 50)\n",
    "funcion(35, 0)\n",
    "funcion(50, 35)\n",
    "funcion(100, 85)"
   ]
  },
  {
   "cell_type": "code",
   "execution_count": 4,
   "metadata": {},
   "outputs": [
    {
     "output_type": "stream",
     "name": "stdout",
     "text": [
      "    * \n   * * \n  * * * \n * * * * \n  * * * \n   * * \n    * \n     \n"
     ]
    }
   ],
   "source": [
    "                                                        # PROBLEMA 3: 7 niveles #\n",
    "\n",
    "# Para este problema se usó de base el código del triángulo previo para hacer la parte superior y se copió el código para hacer la inferior #\n",
    "\n",
    "# El número de filas que habrá en el triángulo superior\n",
    "nfilas4 = 4   \n",
    "# Los espacios para que no esté pegado al lado se usa con K  \n",
    "a = nfilas4 \n",
    "# El for que determina el número de asteríscos del triángulo superior  \n",
    "for b in range(0, nfilas4):  \n",
    "    # Este for determina la cantidad de espacios que van a haber por cada fila  \n",
    "    for c in range(0, a):  \n",
    "        print(end=\" \")  \n",
    "    # El uso de esta K es para que hayan menos espacios mientras sube el número de asteríscos (mientras menos asteríscos, más               espacios en blanco) \n",
    "    a = a - 1  \n",
    "    # Con este for se imprimen los asteríscos \n",
    "    for c in range(0, b + 1):  \n",
    "        print(\"* \", end=\"\")  \n",
    "    print(\"\")    \n",
    "\n",
    "# Se modifica un poco el código del triángulo inferior para que quede bien con el triángulo superior\n",
    "nfilas5 = nfilas4 - 1\n",
    "y = 2\n",
    "for n in range(nfilas5, -1, -1):  \n",
    "    for x in range(y, 0, -1):  \n",
    "        print(end=\" \")  \n",
    "    y = y + 1  \n",
    "    for x in range(0, n):  \n",
    "        print(\"*\", end=\" \")  \n",
    "    print(\"\")"
   ]
  },
  {
   "cell_type": "code",
   "execution_count": 12,
   "metadata": {},
   "outputs": [
    {
     "output_type": "stream",
     "name": "stdout",
     "text": [
      "     * \n    * * \n   * * * \n  * * * * \n * * * * * \n  * * * * \n   * * * \n    * * \n     * \n      \n"
     ]
    }
   ],
   "source": [
    "                                                        # PROBLEMA 3: 9 niveles #\n",
    "nfilas6 = 5   \n",
    "a = nfilas6 \n",
    "for b in range(0, nfilas6):  \n",
    "    for c in range(0, a):  \n",
    "        print(end=\" \")  \n",
    "    a = a - 1  \n",
    "    for c in range(0, b + 1):  \n",
    "        print(\"* \", end=\"\")  \n",
    "    print(\"\")   \n",
    "\n",
    "nfilas7 = nfilas6 - 1\n",
    "y = 2\n",
    "for n in range(nfilas7, -1, -1):  \n",
    "    for x in range(y, 0, -1):  \n",
    "        print(end=\" \")  \n",
    "    y = y + 1  \n",
    "    for x in range(0, n):  \n",
    "        print(\"*\", end=\" \")  \n",
    "    print(\"\")"
   ]
  },
  {
   "source": [
    "                                                        # PROBLEMA 3: 11 niveles #\n",
    "nfilas8 = 6   \n",
    "a = nfilas8 \n",
    "for b in range(0, nfilas8):  \n",
    "    for c in range(0, a):  \n",
    "        print(end=\" \")  \n",
    "    a = a - 1  \n",
    "    for c in range(0, b + 1):  \n",
    "        print(\"* \", end=\"\")  \n",
    "    print(\"\")   \n",
    "\n",
    "nfilas9 = nfilas8 - 1\n",
    "y = 2\n",
    "for n in range(nfilas9, -1, -1):  \n",
    "    for x in range(y, 0, -1):  \n",
    "        print(end=\" \")  \n",
    "    y = y + 1  \n",
    "    for x in range(0, n):  \n",
    "        print(\"*\", end=\" \")  \n",
    "    print(\"\")"
   ],
   "cell_type": "code",
   "metadata": {},
   "execution_count": 5,
   "outputs": [
    {
     "output_type": "stream",
     "name": "stdout",
     "text": [
      "      * \n     * * \n    * * * \n   * * * * \n  * * * * * \n * * * * * * \n  * * * * * \n   * * * * \n    * * * \n     * * \n      * \n       \n"
     ]
    }
   ]
  },
  {
   "cell_type": "code",
   "execution_count": null,
   "metadata": {},
   "outputs": [],
   "source": []
  }
 ]
}